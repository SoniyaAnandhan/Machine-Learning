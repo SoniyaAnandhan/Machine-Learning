{
 "cells": [
  {
   "cell_type": "code",
   "execution_count": 1,
   "id": "2c3af09b-644d-4a25-9d54-ef95e8d563d0",
   "metadata": {},
   "outputs": [],
   "source": [
    "import pandas as pd\n",
    "import matplotlib.pyplot as plt\n",
    "from sklearn.model_selection import train_test_split, cross_val_score\n",
    "from sklearn.preprocessing import MinMaxScaler, StandardScaler\n",
    "from sklearn.neighbors import KNeighborsClassifier\n",
    "from sklearn.metrics import confusion_matrix, accuracy_score"
   ]
  },
  {
   "cell_type": "code",
   "execution_count": 3,
   "id": "8df0f368-7872-4934-907d-57a0acd5b870",
   "metadata": {},
   "outputs": [
    {
     "data": {
      "text/html": [
       "<div>\n",
       "<style scoped>\n",
       "    .dataframe tbody tr th:only-of-type {\n",
       "        vertical-align: middle;\n",
       "    }\n",
       "\n",
       "    .dataframe tbody tr th {\n",
       "        vertical-align: top;\n",
       "    }\n",
       "\n",
       "    .dataframe thead th {\n",
       "        text-align: right;\n",
       "    }\n",
       "</style>\n",
       "<table border=\"1\" class=\"dataframe\">\n",
       "  <thead>\n",
       "    <tr style=\"text-align: right;\">\n",
       "      <th></th>\n",
       "      <th>sepal_length</th>\n",
       "      <th>sepal_width</th>\n",
       "      <th>petal_length</th>\n",
       "      <th>petal_width</th>\n",
       "      <th>species</th>\n",
       "    </tr>\n",
       "  </thead>\n",
       "  <tbody>\n",
       "    <tr>\n",
       "      <th>0</th>\n",
       "      <td>5.1</td>\n",
       "      <td>3.5</td>\n",
       "      <td>1.4</td>\n",
       "      <td>0.2</td>\n",
       "      <td>setosa</td>\n",
       "    </tr>\n",
       "    <tr>\n",
       "      <th>1</th>\n",
       "      <td>4.9</td>\n",
       "      <td>3.0</td>\n",
       "      <td>1.4</td>\n",
       "      <td>0.2</td>\n",
       "      <td>setosa</td>\n",
       "    </tr>\n",
       "    <tr>\n",
       "      <th>2</th>\n",
       "      <td>4.7</td>\n",
       "      <td>3.2</td>\n",
       "      <td>1.3</td>\n",
       "      <td>0.2</td>\n",
       "      <td>setosa</td>\n",
       "    </tr>\n",
       "    <tr>\n",
       "      <th>3</th>\n",
       "      <td>4.6</td>\n",
       "      <td>3.1</td>\n",
       "      <td>1.5</td>\n",
       "      <td>0.2</td>\n",
       "      <td>setosa</td>\n",
       "    </tr>\n",
       "    <tr>\n",
       "      <th>4</th>\n",
       "      <td>5.0</td>\n",
       "      <td>3.6</td>\n",
       "      <td>1.4</td>\n",
       "      <td>0.2</td>\n",
       "      <td>setosa</td>\n",
       "    </tr>\n",
       "  </tbody>\n",
       "</table>\n",
       "</div>"
      ],
      "text/plain": [
       "   sepal_length  sepal_width  petal_length  petal_width species\n",
       "0           5.1          3.5           1.4          0.2  setosa\n",
       "1           4.9          3.0           1.4          0.2  setosa\n",
       "2           4.7          3.2           1.3          0.2  setosa\n",
       "3           4.6          3.1           1.5          0.2  setosa\n",
       "4           5.0          3.6           1.4          0.2  setosa"
      ]
     },
     "execution_count": 3,
     "metadata": {},
     "output_type": "execute_result"
    }
   ],
   "source": [
    "df = pd.read_csv('iris.csv')\n",
    "df.head()"
   ]
  },
  {
   "cell_type": "code",
   "execution_count": 4,
   "id": "69649c0d-c746-4718-8ce0-1e557be17e44",
   "metadata": {},
   "outputs": [
    {
     "name": "stdout",
     "output_type": "stream",
     "text": [
      "species\n",
      "setosa        50\n",
      "versicolor    50\n",
      "virginica     50\n",
      "Name: count, dtype: int64\n"
     ]
    }
   ],
   "source": [
    "print(df.species.value_counts())"
   ]
  },
  {
   "cell_type": "code",
   "execution_count": 5,
   "id": "f661472c-d205-4129-9968-ff6c13a0959b",
   "metadata": {},
   "outputs": [],
   "source": [
    "X = df.drop(columns=['species'])\n",
    "y = df.species"
   ]
  },
  {
   "cell_type": "code",
   "execution_count": 7,
   "id": "81b8f1c1-4509-4ac0-b4f6-9404a3ca8d21",
   "metadata": {},
   "outputs": [],
   "source": [
    "X_train, X_test, y_train, y_test = train_test_split(X,y, test_size=.3, random_state=1, stratify=y)"
   ]
  },
  {
   "cell_type": "code",
   "execution_count": 8,
   "id": "d3a80108-3c65-4a7c-bcf9-db53e57399eb",
   "metadata": {},
   "outputs": [
    {
     "name": "stdout",
     "output_type": "stream",
     "text": [
      "validation Accuracy, Unscaled 0.9333333333333332\n"
     ]
    }
   ],
   "source": [
    "model = KNeighborsClassifier()\n",
    "scores=cross_val_score(model, X_train,y_train, cv=5)\n",
    "print(\"validation Accuracy, Unscaled\", scores.mean())"
   ]
  },
  {
   "cell_type": "code",
   "execution_count": 10,
   "id": "72a6a26f-143c-458c-8bf9-239c23509c3b",
   "metadata": {},
   "outputs": [
    {
     "name": "stdout",
     "output_type": "stream",
     "text": [
      "Validation Accuracy, MinMaxScaler 0.9428571428571428\n"
     ]
    }
   ],
   "source": [
    "scaler = MinMaxScaler()\n",
    "scaler.fit(X_train)\n",
    "X_train_scaled = scaler.transform(X_train)\n",
    "scores = cross_val_score(model, X_train_scaled, y_train, cv=5)\n",
    "print(\"Validation Accuracy, MinMaxScaler\", scores.mean())"
   ]
  },
  {
   "cell_type": "code",
   "execution_count": 11,
   "id": "415efb00-563b-4b70-81d8-2d6311e32992",
   "metadata": {},
   "outputs": [
    {
     "name": "stdout",
     "output_type": "stream",
     "text": [
      "validation accuracy, StandardScaler 0.9523809523809523\n"
     ]
    }
   ],
   "source": [
    "scaler = StandardScaler()\n",
    "scaler.fit(X_train)\n",
    "X_train_scaled = scaler.transform(X_train)\n",
    "scores = cross_val_score(model, X_train_scaled, y_train, cv=5)\n",
    "print(\"validation accuracy, StandardScaler\",scores.mean())\n"
   ]
  },
  {
   "cell_type": "code",
   "execution_count": 20,
   "id": "bf518f67-5db1-4eff-8743-bc5fb3fa5486",
   "metadata": {},
   "outputs": [
    {
     "name": "stdout",
     "output_type": "stream",
     "text": [
      "k:  1 validation accuracy: 0.9428571428571428\n",
      "k:  2 validation accuracy: 0.9333333333333333\n",
      "k:  3 validation accuracy: 0.9428571428571428\n",
      "k:  4 validation accuracy: 0.9428571428571428\n",
      "k:  5 validation accuracy: 0.9333333333333332\n",
      "k:  6 validation accuracy: 0.9333333333333332\n",
      "k:  7 validation accuracy: 0.9333333333333332\n",
      "k:  8 validation accuracy: 0.9333333333333332\n",
      "k:  9 validation accuracy: 0.9428571428571428\n",
      "k:  10 validation accuracy: 0.9333333333333332\n",
      "k:  11 validation accuracy: 0.9333333333333332\n",
      "k:  12 validation accuracy: 0.9428571428571428\n",
      "k:  13 validation accuracy: 0.9333333333333332\n",
      "k:  14 validation accuracy: 0.9428571428571428\n",
      "k:  15 validation accuracy: 0.9428571428571428\n",
      "k:  16 validation accuracy: 0.9333333333333333\n",
      "k:  17 validation accuracy: 0.9333333333333333\n",
      "k:  18 validation accuracy: 0.9333333333333333\n",
      "k:  19 validation accuracy: 0.9333333333333333\n",
      "k:  20 validation accuracy: 0.9333333333333333\n",
      "k:  21 validation accuracy: 0.9428571428571428\n",
      "k:  22 validation accuracy: 0.9333333333333333\n",
      "k:  23 validation accuracy: 0.9238095238095239\n",
      "k:  24 validation accuracy: 0.9333333333333333\n",
      "k:  25 validation accuracy: 0.9238095238095239\n",
      "k:  26 validation accuracy: 0.9238095238095239\n",
      "k:  27 validation accuracy: 0.9238095238095239\n",
      "k:  28 validation accuracy: 0.9238095238095239\n",
      "k:  29 validation accuracy: 0.9333333333333333\n",
      "k:  30 validation accuracy: 0.9333333333333333\n"
     ]
    }
   ],
   "source": [
    "training_accuracy=[]\n",
    "validation_accuracy=[]\n",
    "for k in range(1,31):\n",
    "    model = KNeighborsClassifier(n_neighbors=k)\n",
    "    model.fit(X_train, y_train)\n",
    "    training_accuracy.append(model.score(X_train, y_train))\n",
    "    scores = cross_val_score(model, X_train, y_train, cv=5)\n",
    "    print(\"k: \", k, \"validation accuracy:\",scores.mean())"
   ]
  },
  {
   "cell_type": "code",
   "execution_count": 17,
   "id": "6c452797-5d55-484d-9075-13eaadfd22c8",
   "metadata": {},
   "outputs": [
    {
     "name": "stdout",
     "output_type": "stream",
     "text": [
      "Training acuuracy 1.0\n",
      "test accuracy: 0.9777777777777777\n"
     ]
    }
   ],
   "source": [
    "model = KNeighborsClassifier(n_neighbors=1)\n",
    "model.fit(X_train, y_train)\n",
    "print(\"Training acuuracy\", model.score(X_train, y_train))\n",
    "print(\"test accuracy:\", model.score(X_test, y_test))"
   ]
  },
  {
   "cell_type": "code",
   "execution_count": 16,
   "id": "ed2c1e87-ce16-4078-b0b9-733c87ab817f",
   "metadata": {},
   "outputs": [
    {
     "name": "stdout",
     "output_type": "stream",
     "text": [
      "[[15  0  0]\n",
      " [ 0 15  0]\n",
      " [ 0  1 14]]\n",
      "test accuracy: 0.9777777777777777\n"
     ]
    }
   ],
   "source": [
    "y_predict = model.predict(X_test)\n",
    "CM = confusion_matrix(y_test, y_predict)\n",
    "print(CM)\n",
    "print(\"test accuracy:\", model.score(X_test, y_test))"
   ]
  },
  {
   "cell_type": "code",
   "execution_count": 22,
   "id": "ed1e4414-0721-489b-9a5a-096ab2f41764",
   "metadata": {},
   "outputs": [
    {
     "data": {
      "image/png": "[encoded data removed]",
      "text/plain": [
       "<Figure size 640x480 with 1 Axes>"
      ]
     },
     "metadata": {},
     "output_type": "display_data"
    }
   ],
   "source": [
    "plt.plot(range(1,31), training_accuracy, label=\"training accuracy\")\n",
    "# plt.plot(range(1,31), validation_accuracy, label=\"validation accuracy\")\n",
    "plt.xlabel(\"n_neighbors\")\n",
    "plt.ylabel(\"Accuracy\")\n",
    "plt.legend()\n",
    "plt.title(\"Overfitting with Small value for K\")\n",
    "ax = plt.gca()\n",
    "ax.invert_xaxis()\n",
    "plt.grid()\n",
    "plt.savefig(\"Q2.overfitting.png\")\n",
    "plt.show()"
   ]
  },
  {
   "cell_type": "code",
   "execution_count": null,
   "id": "19c895ff-b928-409f-8cd4-4964ad9c6c60",
   "metadata": {},
   "outputs": [],
   "source": []
  }
 ],
 "metadata": {
  "kernelspec": {
   "display_name": "Python 3 (ipykernel)",
   "language": "python",
   "name": "python3"
  },
  "language_info": {
   "codemirror_mode": {
    "name": "ipython",
    "version": 3
   },
   "file_extension": ".py",
   "mimetype": "text/x-python",
   "name": "python",
   "nbconvert_exporter": "python",
   "pygments_lexer": "ipython3",
   "version": "3.12.4"
  }
 },
 "nbformat": 4,
 "nbformat_minor": 5
}
