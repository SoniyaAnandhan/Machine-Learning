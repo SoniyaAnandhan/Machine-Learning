{
 "cells": [
  {
   "cell_type": "markdown",
   "id": "120d4418-14ea-445c-b2a3-ed72cac2ee98",
   "metadata": {},
   "source": [
    "### • Calculate the GINI value for a node with a 9/7 split (9 instances of class1, 7 instances of class2)"
   ]
  },
  {
   "cell_type": "markdown",
   "id": "d1d11d23-e4cb-43bc-b0ce-25490aa5a1f8",
   "metadata": {},
   "source": [
    "** GINI = 1- sum of p(i)^2 **"
   ]
  },
  {
   "cell_type": "code",
   "execution_count": 1,
   "id": "ae4fe494-e4e3-4535-9e32-ab7b865cf64e",
   "metadata": {},
   "outputs": [
    {
     "data": {
      "text/plain": [
       "0.4921875"
      ]
     },
     "execution_count": 1,
     "metadata": {},
     "output_type": "execute_result"
    }
   ],
   "source": [
    "GINI = 1-((9/16)**2+(7/16)**2)\n",
    "GINI"
   ]
  },
  {
   "cell_type": "markdown",
   "id": "47538115-c9c1-4bde-8ae3-d543802b812d",
   "metadata": {},
   "source": [
    "### 9/7 split is: 0.4921"
   ]
  },
  {
   "cell_type": "markdown",
   "id": "8dbb6483-ba37-4fe4-bab9-92b38f308920",
   "metadata": {},
   "source": [
    "### Calculate the GINI values of the nodes with a 1 / 4 split, 2/1 split and 1/1 split"
   ]
  },
  {
   "cell_type": "code",
   "execution_count": 2,
   "id": "063b9a66-67ef-4ece-adb4-0eae32621a47",
   "metadata": {},
   "outputs": [
    {
     "data": {
      "text/plain": [
       "0.31999999999999984"
      ]
     },
     "execution_count": 2,
     "metadata": {},
     "output_type": "execute_result"
    }
   ],
   "source": [
    "First = 1-((1/5)**2 + (4/5)**2)\n",
    "First"
   ]
  },
  {
   "cell_type": "code",
   "execution_count": 5,
   "id": "db6fb832-c194-4ba3-b6d5-60f827226440",
   "metadata": {},
   "outputs": [
    {
     "data": {
      "text/plain": [
       "0.4444444444444444"
      ]
     },
     "execution_count": 5,
     "metadata": {},
     "output_type": "execute_result"
    }
   ],
   "source": [
    "Second = 1-((2/3)**2 + (1/3)**2)\n",
    "Second"
   ]
  },
  {
   "cell_type": "code",
   "execution_count": 6,
   "id": "2ae74324-fd14-4eb9-84f6-091e0d522498",
   "metadata": {},
   "outputs": [
    {
     "data": {
      "text/plain": [
       "0.5"
      ]
     },
     "execution_count": 6,
     "metadata": {},
     "output_type": "execute_result"
    }
   ],
   "source": [
    "Third = 1-((1/2)**2 + (1/2)**2)\n",
    "Third"
   ]
  },
  {
   "cell_type": "markdown",
   "id": "16fdd9bc-0863-45ad-8f32-2e5cb0a565bb",
   "metadata": {},
   "source": [
    "### Calculate the overall GINI value of a split into the above three nodes (weighted sum of the individual GINI values)"
   ]
  },
  {
   "cell_type": "markdown",
   "id": "d1fbdb29-8277-4e1c-b670-e05bc9e9459d",
   "metadata": {},
   "source": [
    "** Sum of splits (1/4,2/1,1/1)**"
   ]
  },
  {
   "cell_type": "code",
   "execution_count": 7,
   "id": "efe67cc8-2ecf-46d2-bfa8-1fc38642f367",
   "metadata": {},
   "outputs": [
    {
     "data": {
      "text/plain": [
       "10"
      ]
     },
     "execution_count": 7,
     "metadata": {},
     "output_type": "execute_result"
    }
   ],
   "source": [
    "Sum = 5+3+2\n",
    "Sum"
   ]
  },
  {
   "cell_type": "code",
   "execution_count": 10,
   "id": "b9635243-69f5-4a82-9411-146e8074c645",
   "metadata": {},
   "outputs": [
    {
     "data": {
      "text/plain": [
       "0.3"
      ]
     },
     "execution_count": 10,
     "metadata": {},
     "output_type": "execute_result"
    }
   ],
   "source": [
    "W1 = 5/10\n",
    "W2 = 3/10\n",
    "W3 = 2/10\n",
    "W1\n",
    "W2\n",
    "W3"
   ]
  },
  {
   "cell_type": "code",
   "execution_count": 11,
   "id": "8cc2af2f-3bb1-445d-98f1-8962f200d15d",
   "metadata": {},
   "outputs": [
    {
     "data": {
      "text/plain": [
       "0.3933333333333332"
      ]
     },
     "execution_count": 11,
     "metadata": {},
     "output_type": "execute_result"
    }
   ],
   "source": [
    "Overall = (W1*First)+(W2*Second)+(W3*Third)\n",
    "Overall"
   ]
  },
  {
   "cell_type": "markdown",
   "id": "b5c4867f-61b2-4788-ae0f-c75ec6b26123",
   "metadata": {},
   "source": [
    "## Overall GINI value is 0.3933"
   ]
  },
  {
   "cell_type": "code",
   "execution_count": null,
   "id": "275ec762-b95b-447f-8c91-204a8b05f4d8",
   "metadata": {},
   "outputs": [],
   "source": []
  }
 ],
 "metadata": {
  "kernelspec": {
   "display_name": "Python 3 (ipykernel)",
   "language": "python",
   "name": "python3"
  },
  "language_info": {
   "codemirror_mode": {
    "name": "ipython",
    "version": 3
   },
   "file_extension": ".py",
   "mimetype": "text/x-python",
   "name": "python",
   "nbconvert_exporter": "python",
   "pygments_lexer": "ipython3",
   "version": "3.12.4"
  }
 },
 "nbformat": 4,
 "nbformat_minor": 5
}
