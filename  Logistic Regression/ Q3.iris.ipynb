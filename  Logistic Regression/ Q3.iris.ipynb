{
 "cells": [
  {
   "cell_type": "code",
   "execution_count": 1,
   "id": "55936429-d91b-42d9-98f0-fa1376b5119c",
   "metadata": {},
   "outputs": [],
   "source": [
    "import pandas as pd\n",
    "from sklearn.linear_model import LogisticRegression\n",
    "from sklearn.metrics import confusion_matrix\n",
    "from sklearn.model_selection import train_test_split\n",
    "from sklearn.preprocessing import StandardScaler"
   ]
  },
  {
   "cell_type": "code",
   "execution_count": 2,
   "id": "afd9d68d-32d6-4bf0-b1e5-12b913e4c173",
   "metadata": {},
   "outputs": [
    {
     "data": {
      "text/html": [
       "<div>\n",
       "<style scoped>\n",
       "    .dataframe tbody tr th:only-of-type {\n",
       "        vertical-align: middle;\n",
       "    }\n",
       "\n",
       "    .dataframe tbody tr th {\n",
       "        vertical-align: top;\n",
       "    }\n",
       "\n",
       "    .dataframe thead th {\n",
       "        text-align: right;\n",
       "    }\n",
       "</style>\n",
       "<table border=\"1\" class=\"dataframe\">\n",
       "  <thead>\n",
       "    <tr style=\"text-align: right;\">\n",
       "      <th></th>\n",
       "      <th>sepal_length</th>\n",
       "      <th>sepal_width</th>\n",
       "      <th>petal_length</th>\n",
       "      <th>petal_width</th>\n",
       "      <th>species</th>\n",
       "    </tr>\n",
       "  </thead>\n",
       "  <tbody>\n",
       "    <tr>\n",
       "      <th>0</th>\n",
       "      <td>5.1</td>\n",
       "      <td>3.5</td>\n",
       "      <td>1.4</td>\n",
       "      <td>0.2</td>\n",
       "      <td>setosa</td>\n",
       "    </tr>\n",
       "    <tr>\n",
       "      <th>1</th>\n",
       "      <td>4.9</td>\n",
       "      <td>3.0</td>\n",
       "      <td>1.4</td>\n",
       "      <td>0.2</td>\n",
       "      <td>setosa</td>\n",
       "    </tr>\n",
       "    <tr>\n",
       "      <th>2</th>\n",
       "      <td>4.7</td>\n",
       "      <td>3.2</td>\n",
       "      <td>1.3</td>\n",
       "      <td>0.2</td>\n",
       "      <td>setosa</td>\n",
       "    </tr>\n",
       "    <tr>\n",
       "      <th>3</th>\n",
       "      <td>4.6</td>\n",
       "      <td>3.1</td>\n",
       "      <td>1.5</td>\n",
       "      <td>0.2</td>\n",
       "      <td>setosa</td>\n",
       "    </tr>\n",
       "    <tr>\n",
       "      <th>4</th>\n",
       "      <td>5.0</td>\n",
       "      <td>3.6</td>\n",
       "      <td>1.4</td>\n",
       "      <td>0.2</td>\n",
       "      <td>setosa</td>\n",
       "    </tr>\n",
       "  </tbody>\n",
       "</table>\n",
       "</div>"
      ],
      "text/plain": [
       "   sepal_length  sepal_width  petal_length  petal_width species\n",
       "0           5.1          3.5           1.4          0.2  setosa\n",
       "1           4.9          3.0           1.4          0.2  setosa\n",
       "2           4.7          3.2           1.3          0.2  setosa\n",
       "3           4.6          3.1           1.5          0.2  setosa\n",
       "4           5.0          3.6           1.4          0.2  setosa"
      ]
     },
     "execution_count": 2,
     "metadata": {},
     "output_type": "execute_result"
    }
   ],
   "source": [
    "df = pd.read_csv(\"iris.csv\")\n",
    "df.head()"
   ]
  },
  {
   "cell_type": "code",
   "execution_count": 3,
   "id": "5313af2c-7984-4b9b-bf48-f9f050d13a84",
   "metadata": {},
   "outputs": [],
   "source": [
    "X=df.drop(columns = [\"species\"])\n",
    "y=df.species"
   ]
  },
  {
   "cell_type": "code",
   "execution_count": 8,
   "id": "d19c6f77-c551-488c-9360-96b4e99e238e",
   "metadata": {},
   "outputs": [],
   "source": [
    "X_train,X_test, y_train, y_test = train_test_split(X,y, test_size = 25, random_state = 2, stratify=y)\n"
   ]
  },
  {
   "cell_type": "code",
   "execution_count": 20,
   "id": "349dc7af-f34f-4bed-9c30-97d48df34687",
   "metadata": {},
   "outputs": [],
   "source": [
    "scaler = StandardScaler()\n",
    "scaler.fit(X_train)\n",
    "\n",
    "X_train = scaler.transform(X_train)\n",
    "X_test = scaler.transform(X_test)"
   ]
  },
  {
   "cell_type": "code",
   "execution_count": 21,
   "id": "26c92f0c-b441-440a-98e8-45fc3231b484",
   "metadata": {},
   "outputs": [
    {
     "name": "stdout",
     "output_type": "stream",
     "text": [
      " Test Accuracy:  1.0\n"
     ]
    }
   ],
   "source": [
    "model = LogisticRegression()\n",
    "model.fit(X_train, y_train)\n",
    "print(\" Test Accuracy: \", model.score(X_test, y_test))"
   ]
  },
  {
   "cell_type": "code",
   "execution_count": 22,
   "id": "67d10019-1ddc-4e5f-b710-421e7a6457b0",
   "metadata": {
    "scrolled": true
   },
   "outputs": [
    {
     "name": "stdout",
     "output_type": "stream",
     "text": [
      "['versicolor' 'setosa' 'setosa' 'setosa' 'virginica' 'virginica'\n",
      " 'versicolor' 'virginica' 'virginica' 'setosa' 'versicolor' 'virginica'\n",
      " 'versicolor' 'setosa' 'setosa' 'versicolor' 'virginica' 'virginica'\n",
      " 'versicolor' 'virginica' 'setosa' 'setosa' 'setosa' 'versicolor'\n",
      " 'versicolor']\n",
      "[[9 0 0]\n",
      " [0 8 0]\n",
      " [0 0 8]]\n"
     ]
    }
   ],
   "source": [
    "y_prediction = model.predict(X_test)\n",
    "print(y_prediction)\n",
    "\n",
    "conMax = confusion_matrix(y_test, y_prediction)\n",
    "print(conMax)"
   ]
  },
  {
   "cell_type": "code",
   "execution_count": 23,
   "id": "c6363881-395b-4d5f-8ed8-b85ee2738178",
   "metadata": {},
   "outputs": [
    {
     "name": "stdout",
     "output_type": "stream",
     "text": [
      "[[8.52594223e-02 9.04828835e-01 9.91174242e-03]\n",
      " [9.58249899e-01 4.17497872e-02 3.13396718e-07]\n",
      " [9.68601025e-01 3.13986373e-02 3.37641968e-07]\n",
      " [9.66690688e-01 3.33088956e-02 4.16713526e-07]\n",
      " [1.57583364e-04 2.68782893e-02 9.72964127e-01]\n",
      " [2.36866871e-05 8.88236188e-03 9.91093951e-01]\n",
      " [1.77991759e-02 9.04611320e-01 7.75895038e-02]\n",
      " [3.21005522e-05 3.00676723e-02 9.69900227e-01]\n",
      " [1.21427017e-04 9.23196406e-02 9.07558932e-01]\n",
      " [9.83767521e-01 1.62323425e-02 1.36871598e-07]\n",
      " [2.91156329e-02 9.40729742e-01 3.01546254e-02]\n",
      " [1.77031663e-03 3.79616353e-01 6.18613331e-01]\n",
      " [3.25967190e-02 9.31062465e-01 3.63408161e-02]\n",
      " [9.77341969e-01 2.26578421e-02 1.88845779e-07]\n",
      " [9.96167268e-01 3.83271967e-03 1.26424736e-08]\n",
      " [4.81263171e-02 8.83829018e-01 6.80446646e-02]\n",
      " [3.82396087e-03 3.88594409e-01 6.07581630e-01]\n",
      " [7.51819470e-07 1.66656071e-02 9.83333641e-01]\n",
      " [2.07117068e-03 7.72412587e-01 2.25516243e-01]\n",
      " [2.42677368e-05 2.21711456e-02 9.77804587e-01]\n",
      " [9.83006781e-01 1.69930511e-02 1.67805654e-07]\n",
      " [9.68711988e-01 3.12865588e-02 1.45275300e-06]\n",
      " [9.42476109e-01 5.75229387e-02 9.52587093e-07]\n",
      " [7.63985832e-02 8.83090175e-01 4.05112415e-02]\n",
      " [1.83688898e-02 8.26863000e-01 1.54768110e-01]]\n"
     ]
    }
   ],
   "source": [
    "probability = model.predict_proba(X_test)\n",
    "print(probability)"
   ]
  },
  {
   "cell_type": "code",
   "execution_count": null,
   "id": "da2edf0b-f33a-4aa8-b6ec-3517a33d90aa",
   "metadata": {},
   "outputs": [],
   "source": []
  }
 ],
 "metadata": {
  "kernelspec": {
   "display_name": "Python 3 (ipykernel)",
   "language": "python",
   "name": "python3"
  },
  "language_info": {
   "codemirror_mode": {
    "name": "ipython",
    "version": 3
   },
   "file_extension": ".py",
   "mimetype": "text/x-python",
   "name": "python",
   "nbconvert_exporter": "python",
   "pygments_lexer": "ipython3",
   "version": "3.12.1"
  }
 },
 "nbformat": 4,
 "nbformat_minor": 5
}
