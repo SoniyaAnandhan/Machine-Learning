{
 "cells": [
  {
   "cell_type": "markdown",
   "id": "3b7dade4-11a0-4901-a5be-8606670470d6",
   "metadata": {},
   "source": [
    "## Linear Regression for the stackloss Dataset"
   ]
  },
  {
   "cell_type": "code",
   "execution_count": 1,
   "id": "7f93ebb0-e984-4e9e-88c7-74441980fe82",
   "metadata": {},
   "outputs": [
    {
     "ename": "FileNotFoundError",
     "evalue": "Could not find module 'C:\\Users\\35389\\anaconda3\\Lib\\site-packages\\sklearn\\.libs\\vcomp140.dll' (or one of its dependencies). Try using the full path with constructor syntax.",
     "output_type": "error",
     "traceback": [
      "\u001b[1;31m---------------------------------------------------------------------------\u001b[0m",
      "\u001b[1;31mFileNotFoundError\u001b[0m                         Traceback (most recent call last)",
      "Cell \u001b[1;32mIn[1], line 4\u001b[0m\n\u001b[0;32m      2\u001b[0m \u001b[38;5;28;01mfrom\u001b[39;00m \u001b[38;5;21;01mpandas\u001b[39;00m\u001b[38;5;21;01m.\u001b[39;00m\u001b[38;5;21;01mplotting\u001b[39;00m \u001b[38;5;28;01mimport\u001b[39;00m scatter_matrix\n\u001b[0;32m      3\u001b[0m \u001b[38;5;28;01mimport\u001b[39;00m \u001b[38;5;21;01mmatplotlib\u001b[39;00m\u001b[38;5;21;01m.\u001b[39;00m\u001b[38;5;21;01mpyplot\u001b[39;00m \u001b[38;5;28;01mas\u001b[39;00m \u001b[38;5;21;01mplt\u001b[39;00m\n\u001b[1;32m----> 4\u001b[0m \u001b[38;5;28;01mfrom\u001b[39;00m \u001b[38;5;21;01msklearn\u001b[39;00m\u001b[38;5;21;01m.\u001b[39;00m\u001b[38;5;21;01mmodel_selection\u001b[39;00m \u001b[38;5;28;01mimport\u001b[39;00m train_test_split\n\u001b[0;32m      5\u001b[0m \u001b[38;5;28;01mfrom\u001b[39;00m \u001b[38;5;21;01msklearn\u001b[39;00m\u001b[38;5;21;01m.\u001b[39;00m\u001b[38;5;21;01mlinear_model\u001b[39;00m \u001b[38;5;28;01mimport\u001b[39;00m LinearRegression\n\u001b[0;32m      6\u001b[0m \u001b[38;5;28;01mfrom\u001b[39;00m \u001b[38;5;21;01msklearn\u001b[39;00m\u001b[38;5;21;01m.\u001b[39;00m\u001b[38;5;21;01mmetrics\u001b[39;00m \u001b[38;5;28;01mimport\u001b[39;00m root_mean_squared_error\n",
      "File \u001b[1;32m~\\anaconda3\\Lib\\site-packages\\sklearn\\__init__.py:80\u001b[0m\n\u001b[0;32m     69\u001b[0m     sys\u001b[38;5;241m.\u001b[39mstderr\u001b[38;5;241m.\u001b[39mwrite(\u001b[38;5;124m\"\u001b[39m\u001b[38;5;124mPartial import of sklearn during the build process.\u001b[39m\u001b[38;5;130;01m\\n\u001b[39;00m\u001b[38;5;124m\"\u001b[39m)\n\u001b[0;32m     70\u001b[0m     \u001b[38;5;66;03m# We are not importing the rest of scikit-learn during the build\u001b[39;00m\n\u001b[0;32m     71\u001b[0m     \u001b[38;5;66;03m# process, as it may not be compiled yet\u001b[39;00m\n\u001b[0;32m     72\u001b[0m \u001b[38;5;28;01melse\u001b[39;00m:\n\u001b[1;32m   (...)\u001b[0m\n\u001b[0;32m     78\u001b[0m     \u001b[38;5;66;03m# later is linked to the OpenMP runtime to make it possible to introspect\u001b[39;00m\n\u001b[0;32m     79\u001b[0m     \u001b[38;5;66;03m# it and importing it first would fail if the OpenMP dll cannot be found.\u001b[39;00m\n\u001b[1;32m---> 80\u001b[0m     \u001b[38;5;28;01mfrom\u001b[39;00m \u001b[38;5;21;01m.\u001b[39;00m \u001b[38;5;28;01mimport\u001b[39;00m (\n\u001b[0;32m     81\u001b[0m         __check_build,  \u001b[38;5;66;03m# noqa: F401\u001b[39;00m\n\u001b[0;32m     82\u001b[0m         _distributor_init,  \u001b[38;5;66;03m# noqa: F401\u001b[39;00m\n\u001b[0;32m     83\u001b[0m     )\n\u001b[0;32m     84\u001b[0m     \u001b[38;5;28;01mfrom\u001b[39;00m \u001b[38;5;21;01m.\u001b[39;00m\u001b[38;5;21;01mbase\u001b[39;00m \u001b[38;5;28;01mimport\u001b[39;00m clone\n\u001b[0;32m     85\u001b[0m     \u001b[38;5;28;01mfrom\u001b[39;00m \u001b[38;5;21;01m.\u001b[39;00m\u001b[38;5;21;01mutils\u001b[39;00m\u001b[38;5;21;01m.\u001b[39;00m\u001b[38;5;21;01m_show_versions\u001b[39;00m \u001b[38;5;28;01mimport\u001b[39;00m show_versions\n",
      "File \u001b[1;32m~\\anaconda3\\Lib\\site-packages\\sklearn\\_distributor_init.py:21\u001b[0m\n\u001b[0;32m     19\u001b[0m vcomp140_dll_filename \u001b[38;5;241m=\u001b[39m op\u001b[38;5;241m.\u001b[39mjoin(libs_path, \u001b[38;5;124m\"\u001b[39m\u001b[38;5;124mvcomp140.dll\u001b[39m\u001b[38;5;124m\"\u001b[39m)\n\u001b[0;32m     20\u001b[0m msvcp140_dll_filename \u001b[38;5;241m=\u001b[39m op\u001b[38;5;241m.\u001b[39mjoin(libs_path, \u001b[38;5;124m\"\u001b[39m\u001b[38;5;124mmsvcp140.dll\u001b[39m\u001b[38;5;124m\"\u001b[39m)\n\u001b[1;32m---> 21\u001b[0m WinDLL(op\u001b[38;5;241m.\u001b[39mabspath(vcomp140_dll_filename))\n\u001b[0;32m     22\u001b[0m WinDLL(op\u001b[38;5;241m.\u001b[39mabspath(msvcp140_dll_filename))\n",
      "File \u001b[1;32m~\\anaconda3\\Lib\\ctypes\\__init__.py:379\u001b[0m, in \u001b[0;36mCDLL.__init__\u001b[1;34m(self, name, mode, handle, use_errno, use_last_error, winmode)\u001b[0m\n\u001b[0;32m    376\u001b[0m \u001b[38;5;28mself\u001b[39m\u001b[38;5;241m.\u001b[39m_FuncPtr \u001b[38;5;241m=\u001b[39m _FuncPtr\n\u001b[0;32m    378\u001b[0m \u001b[38;5;28;01mif\u001b[39;00m handle \u001b[38;5;129;01mis\u001b[39;00m \u001b[38;5;28;01mNone\u001b[39;00m:\n\u001b[1;32m--> 379\u001b[0m     \u001b[38;5;28mself\u001b[39m\u001b[38;5;241m.\u001b[39m_handle \u001b[38;5;241m=\u001b[39m _dlopen(\u001b[38;5;28mself\u001b[39m\u001b[38;5;241m.\u001b[39m_name, mode)\n\u001b[0;32m    380\u001b[0m \u001b[38;5;28;01melse\u001b[39;00m:\n\u001b[0;32m    381\u001b[0m     \u001b[38;5;28mself\u001b[39m\u001b[38;5;241m.\u001b[39m_handle \u001b[38;5;241m=\u001b[39m handle\n",
      "\u001b[1;31mFileNotFoundError\u001b[0m: Could not find module 'C:\\Users\\35389\\anaconda3\\Lib\\site-packages\\sklearn\\.libs\\vcomp140.dll' (or one of its dependencies). Try using the full path with constructor syntax."
     ]
    }
   ],
   "source": [
    "import pandas as pd\n",
    "from pandas.plotting import scatter_matrix\n",
    "import matplotlib.pyplot as plt\n",
    "from sklearn.model_selection import train_test_split\n",
    "from sklearn.linear_model import LinearRegression\n",
    "from sklearn.metrics import root_mean_squared_error"
   ]
  },
  {
   "cell_type": "markdown",
   "id": "748d6a0f-c3a9-4d61-b6dc-5895f979cde8",
   "metadata": {},
   "source": [
    "## Read in the Data"
   ]
  },
  {
   "cell_type": "code",
   "execution_count": 14,
   "id": "63bd1dbf-82f0-4660-a5f4-3940de119779",
   "metadata": {},
   "outputs": [
    {
     "data": {
      "text/html": [
       "<div>\n",
       "<style scoped>\n",
       "    .dataframe tbody tr th:only-of-type {\n",
       "        vertical-align: middle;\n",
       "    }\n",
       "\n",
       "    .dataframe tbody tr th {\n",
       "        vertical-align: top;\n",
       "    }\n",
       "\n",
       "    .dataframe thead th {\n",
       "        text-align: right;\n",
       "    }\n",
       "</style>\n",
       "<table border=\"1\" class=\"dataframe\">\n",
       "  <thead>\n",
       "    <tr style=\"text-align: right;\">\n",
       "      <th></th>\n",
       "      <th>AirFlow</th>\n",
       "      <th>WaterTemp</th>\n",
       "      <th>AcidConc</th>\n",
       "      <th>StackLoss</th>\n",
       "    </tr>\n",
       "  </thead>\n",
       "  <tbody>\n",
       "    <tr>\n",
       "      <th>0</th>\n",
       "      <td>80</td>\n",
       "      <td>27</td>\n",
       "      <td>89</td>\n",
       "      <td>42</td>\n",
       "    </tr>\n",
       "    <tr>\n",
       "      <th>1</th>\n",
       "      <td>80</td>\n",
       "      <td>27</td>\n",
       "      <td>88</td>\n",
       "      <td>37</td>\n",
       "    </tr>\n",
       "    <tr>\n",
       "      <th>2</th>\n",
       "      <td>75</td>\n",
       "      <td>25</td>\n",
       "      <td>90</td>\n",
       "      <td>37</td>\n",
       "    </tr>\n",
       "    <tr>\n",
       "      <th>3</th>\n",
       "      <td>62</td>\n",
       "      <td>24</td>\n",
       "      <td>87</td>\n",
       "      <td>28</td>\n",
       "    </tr>\n",
       "    <tr>\n",
       "      <th>4</th>\n",
       "      <td>62</td>\n",
       "      <td>22</td>\n",
       "      <td>87</td>\n",
       "      <td>18</td>\n",
       "    </tr>\n",
       "  </tbody>\n",
       "</table>\n",
       "</div>"
      ],
      "text/plain": [
       "   AirFlow  WaterTemp  AcidConc  StackLoss\n",
       "0       80         27        89         42\n",
       "1       80         27        88         37\n",
       "2       75         25        90         37\n",
       "3       62         24        87         28\n",
       "4       62         22        87         18"
      ]
     },
     "execution_count": 14,
     "metadata": {},
     "output_type": "execute_result"
    }
   ],
   "source": [
    "DF = pd.read_csv(\"data/stackloss.csv\")\n",
    "DF.head()"
   ]
  },
  {
   "cell_type": "markdown",
   "id": "42803421-e675-4f59-93c8-cfbb19cdee9b",
   "metadata": {},
   "source": [
    "## Explore Data"
   ]
  },
  {
   "cell_type": "code",
   "execution_count": 15,
   "id": "7291ac0d-50f8-450e-a8d9-472fb7de1461",
   "metadata": {},
   "outputs": [
    {
     "data": {
      "text/html": [
       "<div>\n",
       "<style scoped>\n",
       "    .dataframe tbody tr th:only-of-type {\n",
       "        vertical-align: middle;\n",
       "    }\n",
       "\n",
       "    .dataframe tbody tr th {\n",
       "        vertical-align: top;\n",
       "    }\n",
       "\n",
       "    .dataframe thead th {\n",
       "        text-align: right;\n",
       "    }\n",
       "</style>\n",
       "<table border=\"1\" class=\"dataframe\">\n",
       "  <thead>\n",
       "    <tr style=\"text-align: right;\">\n",
       "      <th></th>\n",
       "      <th>AirFlow</th>\n",
       "      <th>WaterTemp</th>\n",
       "      <th>AcidConc</th>\n",
       "      <th>StackLoss</th>\n",
       "    </tr>\n",
       "  </thead>\n",
       "  <tbody>\n",
       "    <tr>\n",
       "      <th>count</th>\n",
       "      <td>21.000000</td>\n",
       "      <td>21.000000</td>\n",
       "      <td>21.000000</td>\n",
       "      <td>21.000000</td>\n",
       "    </tr>\n",
       "    <tr>\n",
       "      <th>mean</th>\n",
       "      <td>60.428571</td>\n",
       "      <td>21.095238</td>\n",
       "      <td>86.285714</td>\n",
       "      <td>17.523810</td>\n",
       "    </tr>\n",
       "    <tr>\n",
       "      <th>std</th>\n",
       "      <td>9.168268</td>\n",
       "      <td>3.160771</td>\n",
       "      <td>5.358571</td>\n",
       "      <td>10.171623</td>\n",
       "    </tr>\n",
       "    <tr>\n",
       "      <th>min</th>\n",
       "      <td>50.000000</td>\n",
       "      <td>17.000000</td>\n",
       "      <td>72.000000</td>\n",
       "      <td>7.000000</td>\n",
       "    </tr>\n",
       "    <tr>\n",
       "      <th>25%</th>\n",
       "      <td>56.000000</td>\n",
       "      <td>18.000000</td>\n",
       "      <td>82.000000</td>\n",
       "      <td>11.000000</td>\n",
       "    </tr>\n",
       "    <tr>\n",
       "      <th>50%</th>\n",
       "      <td>58.000000</td>\n",
       "      <td>20.000000</td>\n",
       "      <td>87.000000</td>\n",
       "      <td>15.000000</td>\n",
       "    </tr>\n",
       "    <tr>\n",
       "      <th>75%</th>\n",
       "      <td>62.000000</td>\n",
       "      <td>24.000000</td>\n",
       "      <td>89.000000</td>\n",
       "      <td>19.000000</td>\n",
       "    </tr>\n",
       "    <tr>\n",
       "      <th>max</th>\n",
       "      <td>80.000000</td>\n",
       "      <td>27.000000</td>\n",
       "      <td>93.000000</td>\n",
       "      <td>42.000000</td>\n",
       "    </tr>\n",
       "  </tbody>\n",
       "</table>\n",
       "</div>"
      ],
      "text/plain": [
       "         AirFlow  WaterTemp   AcidConc  StackLoss\n",
       "count  21.000000  21.000000  21.000000  21.000000\n",
       "mean   60.428571  21.095238  86.285714  17.523810\n",
       "std     9.168268   3.160771   5.358571  10.171623\n",
       "min    50.000000  17.000000  72.000000   7.000000\n",
       "25%    56.000000  18.000000  82.000000  11.000000\n",
       "50%    58.000000  20.000000  87.000000  15.000000\n",
       "75%    62.000000  24.000000  89.000000  19.000000\n",
       "max    80.000000  27.000000  93.000000  42.000000"
      ]
     },
     "execution_count": 15,
     "metadata": {},
     "output_type": "execute_result"
    }
   ],
   "source": [
    "DF.describe()"
   ]
  },
  {
   "cell_type": "markdown",
   "id": "c76e365a-70e1-4aa9-9b6c-e1d15fef58d3",
   "metadata": {},
   "source": [
    "## Values of count mean no missing values. Seems to be a small number of large values for stackloss."
   ]
  },
  {
   "cell_type": "code",
   "execution_count": 16,
   "id": "86b8e38c-7503-461b-b800-3876a0660d9f",
   "metadata": {},
   "outputs": [
    {
     "data": {
      "text/html": [
       "<div>\n",
       "<style scoped>\n",
       "    .dataframe tbody tr th:only-of-type {\n",
       "        vertical-align: middle;\n",
       "    }\n",
       "\n",
       "    .dataframe tbody tr th {\n",
       "        vertical-align: top;\n",
       "    }\n",
       "\n",
       "    .dataframe thead th {\n",
       "        text-align: right;\n",
       "    }\n",
       "</style>\n",
       "<table border=\"1\" class=\"dataframe\">\n",
       "  <thead>\n",
       "    <tr style=\"text-align: right;\">\n",
       "      <th></th>\n",
       "      <th>AirFlow</th>\n",
       "      <th>WaterTemp</th>\n",
       "      <th>AcidConc</th>\n",
       "      <th>StackLoss</th>\n",
       "    </tr>\n",
       "  </thead>\n",
       "  <tbody>\n",
       "    <tr>\n",
       "      <th>AirFlow</th>\n",
       "      <td>1.000000</td>\n",
       "      <td>0.781852</td>\n",
       "      <td>0.500143</td>\n",
       "      <td>0.919663</td>\n",
       "    </tr>\n",
       "    <tr>\n",
       "      <th>WaterTemp</th>\n",
       "      <td>0.781852</td>\n",
       "      <td>1.000000</td>\n",
       "      <td>0.390940</td>\n",
       "      <td>0.875504</td>\n",
       "    </tr>\n",
       "    <tr>\n",
       "      <th>AcidConc</th>\n",
       "      <td>0.500143</td>\n",
       "      <td>0.390940</td>\n",
       "      <td>1.000000</td>\n",
       "      <td>0.399830</td>\n",
       "    </tr>\n",
       "    <tr>\n",
       "      <th>StackLoss</th>\n",
       "      <td>0.919663</td>\n",
       "      <td>0.875504</td>\n",
       "      <td>0.399830</td>\n",
       "      <td>1.000000</td>\n",
       "    </tr>\n",
       "  </tbody>\n",
       "</table>\n",
       "</div>"
      ],
      "text/plain": [
       "            AirFlow  WaterTemp  AcidConc  StackLoss\n",
       "AirFlow    1.000000   0.781852  0.500143   0.919663\n",
       "WaterTemp  0.781852   1.000000  0.390940   0.875504\n",
       "AcidConc   0.500143   0.390940  1.000000   0.399830\n",
       "StackLoss  0.919663   0.875504  0.399830   1.000000"
      ]
     },
     "execution_count": 16,
     "metadata": {},
     "output_type": "execute_result"
    }
   ],
   "source": [
    "DF.corr()"
   ]
  },
  {
   "cell_type": "raw",
   "id": "8d2e5629-b882-4a93-bc70-3e27cffe12af",
   "metadata": {},
   "source": [
    "** Fairly high collrelations between Stackloss and both Airflow and WaterTemp suggests we should get pretty good model. **"
   ]
  },
  {
   "cell_type": "code",
   "execution_count": 17,
   "id": "45e61983-b5e7-4b38-9ef9-e979317974a7",
   "metadata": {},
   "outputs": [
    {
     "data": {
      "image/png": "[encoded data removed]",
      "text/plain": [
       "<Figure size 640x480 with 16 Axes>"
      ]
     },
     "metadata": {},
     "output_type": "display_data"
    }
   ],
   "source": [
    "scatter_matrix(DF)\n",
    "plt.show()\n",
    "# plt.savefig('plots/p3stacklossScatter.png')"
   ]
  },
  {
   "cell_type": "markdown",
   "id": "dcd9d84e-9b8e-40b8-994a-80fa5a61ef42",
   "metadata": {},
   "source": [
    "## There might be a non_linear relationship between WaterTemp and Stackloss"
   ]
  },
  {
   "cell_type": "markdown",
   "id": "28158aa4-7b6d-4600-b2b1-51da78111a05",
   "metadata": {},
   "source": [
    "## Prepare tje Data"
   ]
  },
  {
   "cell_type": "code",
   "execution_count": 18,
   "id": "ae4a9ecc-5ea9-4551-ad9b-89c049ddb513",
   "metadata": {},
   "outputs": [],
   "source": [
    "# X = DF[['AirFlow', 'WaterTemp', 'AcidConc']]\n",
    "# y = DF['StackLoss']\n",
    "\n",
    "X = DF.drop(columns = 'StackLoss')\n",
    "y = DF. StackLoss\n"
   ]
  },
  {
   "cell_type": "markdown",
   "id": "d66efbcf-af07-4472-b197-8719a78b9548",
   "metadata": {},
   "source": [
    "## Spliting data into Train and Test"
   ]
  },
  {
   "cell_type": "code",
   "execution_count": 19,
   "id": "510d0ee7-98b5-427b-a75f-658343bd9f47",
   "metadata": {},
   "outputs": [
    {
     "name": "stdout",
     "output_type": "stream",
     "text": [
      "(15, 3)\n"
     ]
    }
   ],
   "source": [
    "X_train, X_test, y_train, y_test = train_test_split(X, y, test_size = 0.25, random_state=1)\n",
    "print(X_train.shape)"
   ]
  },
  {
   "cell_type": "markdown",
   "id": "cbf49fd2-b350-4cf4-8f65-f43eb21657c8",
   "metadata": {},
   "source": [
    "## Build the Model"
   ]
  },
  {
   "cell_type": "code",
   "execution_count": 21,
   "id": "b07cf918-5421-40f8-9fad-7c3db479ab2a",
   "metadata": {},
   "outputs": [
    {
     "name": "stdout",
     "output_type": "stream",
     "text": [
      "intercept: -36.69140840591724\n",
      "slope: [ 0.81826835  1.20212439 -0.24889254]\n",
      "R^2:  0.9218135763620641\n",
      "RMSE:  3.772926357336113\n"
     ]
    }
   ],
   "source": [
    "model = LinearRegression()\n",
    "model.fit(X_train, y_train)\n",
    "print('intercept:', model.intercept_)\n",
    "print('slope:', model.coef_)\n",
    "print(\"R^2: \", model.score(X_train, y_train))\n",
    "\n",
    "yhat = model.predict(X_test)\n",
    "print(\"RMSE: \", root_mean_squared_error(y_test, yhat))\n"
   ]
  },
  {
   "cell_type": "markdown",
   "id": "fab3ee9d-e3b5-4163-99e0-5b28ecad58b0",
   "metadata": {},
   "source": [
    "## Make a predictions"
   ]
  },
  {
   "cell_type": "markdown",
   "id": "259de6da-4d42-4514-b496-e7c021cb7cbd",
   "metadata": {},
   "source": [
    "**Typing prediction error of 3.77**"
   ]
  },
  {
   "cell_type": "code",
   "execution_count": 22,
   "id": "ce98eb0d-cdf5-4838-b764-490078532229",
   "metadata": {},
   "outputs": [
    {
     "name": "stdout",
     "output_type": "stream",
     "text": [
      "y_hat [25.11053454 34.82042425]\n"
     ]
    }
   ],
   "source": [
    "newData= [[72, 20, 85], [75, 25, 80]]\n",
    "\n",
    "\n",
    "newDF = pd.DataFrame(newData, columns = ['AirFlow', 'WaterTemp', 'AcidConc'])\n",
    "# print(newDF)\n",
    "y_hat = model.predict(newDF)\n",
    "print('y_hat', y_hat)\n",
    "\n"
   ]
  },
  {
   "cell_type": "markdown",
   "id": "a8a54f85-85e9-404e-98a2-6b038efdc186",
   "metadata": {},
   "source": [
    "** Increase of AirFlow puched up by 2.5, WaterTemp pushes up by 6, AcidConc pushes up by 1**"
   ]
  },
  {
   "cell_type": "code",
   "execution_count": null,
   "id": "5f330fa7-6bb0-43d8-a8d0-0f92ba5c40ea",
   "metadata": {},
   "outputs": [],
   "source": []
  }
 ],
 "metadata": {
  "kernelspec": {
   "display_name": "Python 3 (ipykernel)",
   "language": "python",
   "name": "python3"
  },
  "language_info": {
   "codemirror_mode": {
    "name": "ipython",
    "version": 3
   },
   "file_extension": ".py",
   "mimetype": "text/x-python",
   "name": "python",
   "nbconvert_exporter": "python",
   "pygments_lexer": "ipython3",
   "version": "3.12.1"
  }
 },
 "nbformat": 4,
 "nbformat_minor": 5
}
