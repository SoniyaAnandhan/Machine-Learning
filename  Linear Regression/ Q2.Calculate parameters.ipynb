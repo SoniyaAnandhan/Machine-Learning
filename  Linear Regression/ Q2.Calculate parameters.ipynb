{
 "cells": [
  {
   "cell_type": "code",
   "execution_count": 3,
   "id": "4613b773-c0ef-4620-9608-6c28d53642d1",
   "metadata": {},
   "outputs": [],
   "source": [
    "\n",
    "import numpy as np\n",
    "import pandas as pd\n",
    "import matplotlib.pyplot as plt\n"
   ]
  },
  {
   "cell_type": "markdown",
   "id": "e77fc14e-3b95-4cec-9977-ca4c0e7ae1e5",
   "metadata": {},
   "source": [
    "regression y = ax+b"
   ]
  },
  {
   "cell_type": "code",
   "execution_count": 6,
   "id": "804f127d-70e0-45c9-89e7-8d0daa3eef9e",
   "metadata": {},
   "outputs": [
    {
     "name": "stdout",
     "output_type": "stream",
     "text": [
      "6\n"
     ]
    }
   ],
   "source": [
    "x = np.array([1, 2, 3, 4, 5, 6])\n",
    "y = np.array([6,1,9,5,17,12])\n",
    "n=len(x)\n",
    "print(n)"
   ]
  },
  {
   "cell_type": "code",
   "execution_count": 8,
   "id": "244c1390-773c-4adb-8899-08899275f645",
   "metadata": {},
   "outputs": [
    {
     "name": "stdout",
     "output_type": "stream",
     "text": [
      "222\n"
     ]
    }
   ],
   "source": [
    "numerator = n*sum(x*y)-sum(x)*sum(y)\n",
    "print(numerator)"
   ]
  },
  {
   "cell_type": "code",
   "execution_count": 10,
   "id": "79f6578e-6217-4524-a096-ad94e69a34d9",
   "metadata": {},
   "outputs": [
    {
     "name": "stdout",
     "output_type": "stream",
     "text": [
      "105\n"
     ]
    }
   ],
   "source": [
    "denominator = n*sum(x**2)-(sum(x))**2\n",
    "print(denominator)"
   ]
  },
  {
   "cell_type": "code",
   "execution_count": 12,
   "id": "15bd10b0-a1d0-47a6-8ad6-78d94a069950",
   "metadata": {},
   "outputs": [
    {
     "name": "stdout",
     "output_type": "stream",
     "text": [
      "slope\n",
      "2.1142857142857143\n"
     ]
    }
   ],
   "source": [
    "a = numerator/denominator\n",
    "print(\"slope\")\n",
    "print(a)"
   ]
  },
  {
   "cell_type": "code",
   "execution_count": 14,
   "id": "ec15e8e8-b3f1-4625-972b-de34e28c2fdb",
   "metadata": {},
   "outputs": [
    {
     "name": "stdout",
     "output_type": "stream",
     "text": [
      "0.9333333333333336\n"
     ]
    }
   ],
   "source": [
    "b = (sum(y)-a*(sum(x)))/n\n",
    "print(b)"
   ]
  },
  {
   "cell_type": "code",
   "execution_count": 16,
   "id": "8e9208ab-83ee-44b3-9199-8894cd987fba",
   "metadata": {},
   "outputs": [
    {
     "name": "stdout",
     "output_type": "stream",
     "text": [
      "[ 3.04761905  5.16190476  7.27619048  9.39047619 11.5047619  13.61904762]\n"
     ]
    }
   ],
   "source": [
    "y = a*x + b\n",
    "print(y)"
   ]
  },
  {
   "cell_type": "code",
   "execution_count": 18,
   "id": "5014e28d-6d78-4fd9-b68b-298e07b4059b",
   "metadata": {},
   "outputs": [
    {
     "data": {
      "image/png": "[encoded data removed]",
      "text/plain": [
       "<Figure size 640x480 with 1 Axes>"
      ]
     },
     "metadata": {},
     "output_type": "display_data"
    }
   ],
   "source": [
    "plt.scatter(x,y)\n",
    "plt.show()"
   ]
  },
  {
   "cell_type": "code",
   "execution_count": null,
   "id": "f1c249d0-da1c-4781-9063-f09218c924f3",
   "metadata": {},
   "outputs": [],
   "source": []
  }
 ],
 "metadata": {
  "kernelspec": {
   "display_name": "Python 3 (ipykernel)",
   "language": "python",
   "name": "python3"
  },
  "language_info": {
   "codemirror_mode": {
    "name": "ipython",
    "version": 3
   },
   "file_extension": ".py",
   "mimetype": "text/x-python",
   "name": "python",
   "nbconvert_exporter": "python",
   "pygments_lexer": "ipython3",
   "version": "3.12.4"
  }
 },
 "nbformat": 4,
 "nbformat_minor": 5
}
